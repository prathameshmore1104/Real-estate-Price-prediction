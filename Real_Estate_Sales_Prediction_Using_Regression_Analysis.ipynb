{
  "nbformat": 4,
  "nbformat_minor": 0,
  "metadata": {
    "colab": {
      "provenance": []
    },
    "kernelspec": {
      "name": "python3",
      "display_name": "Python 3"
    },
    "language_info": {
      "name": "python"
    }
  },
  "cells": [
    {
      "cell_type": "code",
      "execution_count": null,
      "metadata": {
        "id": "xmo-O_TZARO6"
      },
      "outputs": [],
      "source": [
        "import numpy as np\n",
        "import pandas as pd\n",
        "import matplotlib\n",
        "import matplotlib.pyplot as plt\n",
        "from matplotlib import style\n",
        "import seaborn as sns\n",
        "import plotly.express as px\n",
        "from sklearn.model_selection import train_test_split\n",
        "from sklearn.linear_model import LinearRegression\n",
        "from sklearn.metrics import mean_squared_error, r2_score\n",
        "from sklearn.preprocessing import StandardScaler"
      ]
    },
    {
      "cell_type": "code",
      "source": [
        "data=pd.read_csv(\"Real_Estate_Sales.csv\")"
      ],
      "metadata": {
        "id": "UDu7cAuXEcaB"
      },
      "execution_count": null,
      "outputs": []
    },
    {
      "cell_type": "code",
      "source": [
        "data.shape"
      ],
      "metadata": {
        "colab": {
          "base_uri": "https://localhost:8080/"
        },
        "id": "bTso34qSEk4g",
        "outputId": "fe1adaec-0e1e-4cf6-e72f-a1a06d515fb2"
      },
      "execution_count": null,
      "outputs": [
        {
          "output_type": "execute_result",
          "data": {
            "text/plain": [
              "(997213, 11)"
            ]
          },
          "metadata": {},
          "execution_count": 16
        }
      ]
    },
    {
      "cell_type": "code",
      "source": [
        "data.sample(10)"
      ],
      "metadata": {
        "colab": {
          "base_uri": "https://localhost:8080/",
          "height": 415
        },
        "id": "vpWM1yN4En3r",
        "outputId": "71863f2f-bd89-44bc-b8d6-f92e96e59613"
      },
      "execution_count": null,
      "outputs": [
        {
          "output_type": "execute_result",
          "data": {
            "text/plain": [
              "        Serial Number  List Year Date Recorded         Town  \\\n",
              "214446          30245       2003     6/17/2004      Madison   \n",
              "761184         150956       2015     8/22/2016    Stratford   \n",
              "313448          40213       2004    02/04/2005      Newtown   \n",
              "953287          18267       2018     2/19/2019   West Haven   \n",
              "279208          49991       2004     2/18/2005   Manchester   \n",
              "228790          31125       2003    07/09/2004  New Britain   \n",
              "674466         130487       2013    06/02/2014  New Britain   \n",
              "349434          50479       2005    12/28/2005      Danbury   \n",
              "294462          40337       2004    01/06/2005    Greenwich   \n",
              "669614          13463       2013    01/07/2014     Stamford   \n",
              "\n",
              "                               Address  Assessed Value  Sale Amount  \\\n",
              "214446              53 MIDDLE BCH RD W         1261100    3200000.0   \n",
              "761184               270 BEAVER DAM RD          233520     388750.0   \n",
              "313448               27 HAWLEYVILLE RD          376100     630000.0   \n",
              "953287                 5 COLONIAL BLVD          194600     170000.0   \n",
              "279208                57 WASHINGTON ST           67900     170000.0   \n",
              "228790                  461 STANLEY ST           76300     135000.0   \n",
              "674466             44 EDDY GLOVER BLVD          123690     209000.0   \n",
              "349434               15 SPRINGSIDE AVE          121700     335000.0   \n",
              "294462                    26 LAKE DR S          694540    2125000.0   \n",
              "669614  60 STRAWBERRY HILL AVENUE # 10          869790    1250000.0   \n",
              "\n",
              "        Sales Ratio  Property Type Residential Type  Years until sold  \n",
              "214446     0.394094            Nan              Nan                 1  \n",
              "761184     0.600695  Single Family    Single Family                 1  \n",
              "313448     0.596984            Nan              Nan                 1  \n",
              "953287     1.144706  Single Family    Single Family                 1  \n",
              "279208     0.399412            Nan              Nan                 1  \n",
              "228790     0.565185            Nan              Nan                 1  \n",
              "674466     0.591818  Single Family    Single Family                 1  \n",
              "349434     0.363284            Nan              Nan                 0  \n",
              "294462     0.326842            Nan              Nan                 1  \n",
              "669614     0.695832            Nan              Nan                 1  "
            ],
            "text/html": [
              "\n",
              "  <div id=\"df-c7f3f9cb-9b1d-46b3-8606-42cbcfa72288\" class=\"colab-df-container\">\n",
              "    <div>\n",
              "<style scoped>\n",
              "    .dataframe tbody tr th:only-of-type {\n",
              "        vertical-align: middle;\n",
              "    }\n",
              "\n",
              "    .dataframe tbody tr th {\n",
              "        vertical-align: top;\n",
              "    }\n",
              "\n",
              "    .dataframe thead th {\n",
              "        text-align: right;\n",
              "    }\n",
              "</style>\n",
              "<table border=\"1\" class=\"dataframe\">\n",
              "  <thead>\n",
              "    <tr style=\"text-align: right;\">\n",
              "      <th></th>\n",
              "      <th>Serial Number</th>\n",
              "      <th>List Year</th>\n",
              "      <th>Date Recorded</th>\n",
              "      <th>Town</th>\n",
              "      <th>Address</th>\n",
              "      <th>Assessed Value</th>\n",
              "      <th>Sale Amount</th>\n",
              "      <th>Sales Ratio</th>\n",
              "      <th>Property Type</th>\n",
              "      <th>Residential Type</th>\n",
              "      <th>Years until sold</th>\n",
              "    </tr>\n",
              "  </thead>\n",
              "  <tbody>\n",
              "    <tr>\n",
              "      <th>214446</th>\n",
              "      <td>30245</td>\n",
              "      <td>2003</td>\n",
              "      <td>6/17/2004</td>\n",
              "      <td>Madison</td>\n",
              "      <td>53 MIDDLE BCH RD W</td>\n",
              "      <td>1261100</td>\n",
              "      <td>3200000.0</td>\n",
              "      <td>0.394094</td>\n",
              "      <td>Nan</td>\n",
              "      <td>Nan</td>\n",
              "      <td>1</td>\n",
              "    </tr>\n",
              "    <tr>\n",
              "      <th>761184</th>\n",
              "      <td>150956</td>\n",
              "      <td>2015</td>\n",
              "      <td>8/22/2016</td>\n",
              "      <td>Stratford</td>\n",
              "      <td>270 BEAVER DAM RD</td>\n",
              "      <td>233520</td>\n",
              "      <td>388750.0</td>\n",
              "      <td>0.600695</td>\n",
              "      <td>Single Family</td>\n",
              "      <td>Single Family</td>\n",
              "      <td>1</td>\n",
              "    </tr>\n",
              "    <tr>\n",
              "      <th>313448</th>\n",
              "      <td>40213</td>\n",
              "      <td>2004</td>\n",
              "      <td>02/04/2005</td>\n",
              "      <td>Newtown</td>\n",
              "      <td>27 HAWLEYVILLE RD</td>\n",
              "      <td>376100</td>\n",
              "      <td>630000.0</td>\n",
              "      <td>0.596984</td>\n",
              "      <td>Nan</td>\n",
              "      <td>Nan</td>\n",
              "      <td>1</td>\n",
              "    </tr>\n",
              "    <tr>\n",
              "      <th>953287</th>\n",
              "      <td>18267</td>\n",
              "      <td>2018</td>\n",
              "      <td>2/19/2019</td>\n",
              "      <td>West Haven</td>\n",
              "      <td>5 COLONIAL BLVD</td>\n",
              "      <td>194600</td>\n",
              "      <td>170000.0</td>\n",
              "      <td>1.144706</td>\n",
              "      <td>Single Family</td>\n",
              "      <td>Single Family</td>\n",
              "      <td>1</td>\n",
              "    </tr>\n",
              "    <tr>\n",
              "      <th>279208</th>\n",
              "      <td>49991</td>\n",
              "      <td>2004</td>\n",
              "      <td>2/18/2005</td>\n",
              "      <td>Manchester</td>\n",
              "      <td>57 WASHINGTON ST</td>\n",
              "      <td>67900</td>\n",
              "      <td>170000.0</td>\n",
              "      <td>0.399412</td>\n",
              "      <td>Nan</td>\n",
              "      <td>Nan</td>\n",
              "      <td>1</td>\n",
              "    </tr>\n",
              "    <tr>\n",
              "      <th>228790</th>\n",
              "      <td>31125</td>\n",
              "      <td>2003</td>\n",
              "      <td>07/09/2004</td>\n",
              "      <td>New Britain</td>\n",
              "      <td>461 STANLEY ST</td>\n",
              "      <td>76300</td>\n",
              "      <td>135000.0</td>\n",
              "      <td>0.565185</td>\n",
              "      <td>Nan</td>\n",
              "      <td>Nan</td>\n",
              "      <td>1</td>\n",
              "    </tr>\n",
              "    <tr>\n",
              "      <th>674466</th>\n",
              "      <td>130487</td>\n",
              "      <td>2013</td>\n",
              "      <td>06/02/2014</td>\n",
              "      <td>New Britain</td>\n",
              "      <td>44 EDDY GLOVER BLVD</td>\n",
              "      <td>123690</td>\n",
              "      <td>209000.0</td>\n",
              "      <td>0.591818</td>\n",
              "      <td>Single Family</td>\n",
              "      <td>Single Family</td>\n",
              "      <td>1</td>\n",
              "    </tr>\n",
              "    <tr>\n",
              "      <th>349434</th>\n",
              "      <td>50479</td>\n",
              "      <td>2005</td>\n",
              "      <td>12/28/2005</td>\n",
              "      <td>Danbury</td>\n",
              "      <td>15 SPRINGSIDE AVE</td>\n",
              "      <td>121700</td>\n",
              "      <td>335000.0</td>\n",
              "      <td>0.363284</td>\n",
              "      <td>Nan</td>\n",
              "      <td>Nan</td>\n",
              "      <td>0</td>\n",
              "    </tr>\n",
              "    <tr>\n",
              "      <th>294462</th>\n",
              "      <td>40337</td>\n",
              "      <td>2004</td>\n",
              "      <td>01/06/2005</td>\n",
              "      <td>Greenwich</td>\n",
              "      <td>26 LAKE DR S</td>\n",
              "      <td>694540</td>\n",
              "      <td>2125000.0</td>\n",
              "      <td>0.326842</td>\n",
              "      <td>Nan</td>\n",
              "      <td>Nan</td>\n",
              "      <td>1</td>\n",
              "    </tr>\n",
              "    <tr>\n",
              "      <th>669614</th>\n",
              "      <td>13463</td>\n",
              "      <td>2013</td>\n",
              "      <td>01/07/2014</td>\n",
              "      <td>Stamford</td>\n",
              "      <td>60 STRAWBERRY HILL AVENUE # 10</td>\n",
              "      <td>869790</td>\n",
              "      <td>1250000.0</td>\n",
              "      <td>0.695832</td>\n",
              "      <td>Nan</td>\n",
              "      <td>Nan</td>\n",
              "      <td>1</td>\n",
              "    </tr>\n",
              "  </tbody>\n",
              "</table>\n",
              "</div>\n",
              "    <div class=\"colab-df-buttons\">\n",
              "\n",
              "  <div class=\"colab-df-container\">\n",
              "    <button class=\"colab-df-convert\" onclick=\"convertToInteractive('df-c7f3f9cb-9b1d-46b3-8606-42cbcfa72288')\"\n",
              "            title=\"Convert this dataframe to an interactive table.\"\n",
              "            style=\"display:none;\">\n",
              "\n",
              "  <svg xmlns=\"http://www.w3.org/2000/svg\" height=\"24px\" viewBox=\"0 -960 960 960\">\n",
              "    <path d=\"M120-120v-720h720v720H120Zm60-500h600v-160H180v160Zm220 220h160v-160H400v160Zm0 220h160v-160H400v160ZM180-400h160v-160H180v160Zm440 0h160v-160H620v160ZM180-180h160v-160H180v160Zm440 0h160v-160H620v160Z\"/>\n",
              "  </svg>\n",
              "    </button>\n",
              "\n",
              "  <style>\n",
              "    .colab-df-container {\n",
              "      display:flex;\n",
              "      gap: 12px;\n",
              "    }\n",
              "\n",
              "    .colab-df-convert {\n",
              "      background-color: #E8F0FE;\n",
              "      border: none;\n",
              "      border-radius: 50%;\n",
              "      cursor: pointer;\n",
              "      display: none;\n",
              "      fill: #1967D2;\n",
              "      height: 32px;\n",
              "      padding: 0 0 0 0;\n",
              "      width: 32px;\n",
              "    }\n",
              "\n",
              "    .colab-df-convert:hover {\n",
              "      background-color: #E2EBFA;\n",
              "      box-shadow: 0px 1px 2px rgba(60, 64, 67, 0.3), 0px 1px 3px 1px rgba(60, 64, 67, 0.15);\n",
              "      fill: #174EA6;\n",
              "    }\n",
              "\n",
              "    .colab-df-buttons div {\n",
              "      margin-bottom: 4px;\n",
              "    }\n",
              "\n",
              "    [theme=dark] .colab-df-convert {\n",
              "      background-color: #3B4455;\n",
              "      fill: #D2E3FC;\n",
              "    }\n",
              "\n",
              "    [theme=dark] .colab-df-convert:hover {\n",
              "      background-color: #434B5C;\n",
              "      box-shadow: 0px 1px 3px 1px rgba(0, 0, 0, 0.15);\n",
              "      filter: drop-shadow(0px 1px 2px rgba(0, 0, 0, 0.3));\n",
              "      fill: #FFFFFF;\n",
              "    }\n",
              "  </style>\n",
              "\n",
              "    <script>\n",
              "      const buttonEl =\n",
              "        document.querySelector('#df-c7f3f9cb-9b1d-46b3-8606-42cbcfa72288 button.colab-df-convert');\n",
              "      buttonEl.style.display =\n",
              "        google.colab.kernel.accessAllowed ? 'block' : 'none';\n",
              "\n",
              "      async function convertToInteractive(key) {\n",
              "        const element = document.querySelector('#df-c7f3f9cb-9b1d-46b3-8606-42cbcfa72288');\n",
              "        const dataTable =\n",
              "          await google.colab.kernel.invokeFunction('convertToInteractive',\n",
              "                                                    [key], {});\n",
              "        if (!dataTable) return;\n",
              "\n",
              "        const docLinkHtml = 'Like what you see? Visit the ' +\n",
              "          '<a target=\"_blank\" href=https://colab.research.google.com/notebooks/data_table.ipynb>data table notebook</a>'\n",
              "          + ' to learn more about interactive tables.';\n",
              "        element.innerHTML = '';\n",
              "        dataTable['output_type'] = 'display_data';\n",
              "        await google.colab.output.renderOutput(dataTable, element);\n",
              "        const docLink = document.createElement('div');\n",
              "        docLink.innerHTML = docLinkHtml;\n",
              "        element.appendChild(docLink);\n",
              "      }\n",
              "    </script>\n",
              "  </div>\n",
              "\n",
              "\n",
              "<div id=\"df-7df5166d-195e-4b83-aa28-5a9c3452b427\">\n",
              "  <button class=\"colab-df-quickchart\" onclick=\"quickchart('df-7df5166d-195e-4b83-aa28-5a9c3452b427')\"\n",
              "            title=\"Suggest charts\"\n",
              "            style=\"display:none;\">\n",
              "\n",
              "<svg xmlns=\"http://www.w3.org/2000/svg\" height=\"24px\"viewBox=\"0 0 24 24\"\n",
              "     width=\"24px\">\n",
              "    <g>\n",
              "        <path d=\"M19 3H5c-1.1 0-2 .9-2 2v14c0 1.1.9 2 2 2h14c1.1 0 2-.9 2-2V5c0-1.1-.9-2-2-2zM9 17H7v-7h2v7zm4 0h-2V7h2v10zm4 0h-2v-4h2v4z\"/>\n",
              "    </g>\n",
              "</svg>\n",
              "  </button>\n",
              "\n",
              "<style>\n",
              "  .colab-df-quickchart {\n",
              "      --bg-color: #E8F0FE;\n",
              "      --fill-color: #1967D2;\n",
              "      --hover-bg-color: #E2EBFA;\n",
              "      --hover-fill-color: #174EA6;\n",
              "      --disabled-fill-color: #AAA;\n",
              "      --disabled-bg-color: #DDD;\n",
              "  }\n",
              "\n",
              "  [theme=dark] .colab-df-quickchart {\n",
              "      --bg-color: #3B4455;\n",
              "      --fill-color: #D2E3FC;\n",
              "      --hover-bg-color: #434B5C;\n",
              "      --hover-fill-color: #FFFFFF;\n",
              "      --disabled-bg-color: #3B4455;\n",
              "      --disabled-fill-color: #666;\n",
              "  }\n",
              "\n",
              "  .colab-df-quickchart {\n",
              "    background-color: var(--bg-color);\n",
              "    border: none;\n",
              "    border-radius: 50%;\n",
              "    cursor: pointer;\n",
              "    display: none;\n",
              "    fill: var(--fill-color);\n",
              "    height: 32px;\n",
              "    padding: 0;\n",
              "    width: 32px;\n",
              "  }\n",
              "\n",
              "  .colab-df-quickchart:hover {\n",
              "    background-color: var(--hover-bg-color);\n",
              "    box-shadow: 0 1px 2px rgba(60, 64, 67, 0.3), 0 1px 3px 1px rgba(60, 64, 67, 0.15);\n",
              "    fill: var(--button-hover-fill-color);\n",
              "  }\n",
              "\n",
              "  .colab-df-quickchart-complete:disabled,\n",
              "  .colab-df-quickchart-complete:disabled:hover {\n",
              "    background-color: var(--disabled-bg-color);\n",
              "    fill: var(--disabled-fill-color);\n",
              "    box-shadow: none;\n",
              "  }\n",
              "\n",
              "  .colab-df-spinner {\n",
              "    border: 2px solid var(--fill-color);\n",
              "    border-color: transparent;\n",
              "    border-bottom-color: var(--fill-color);\n",
              "    animation:\n",
              "      spin 1s steps(1) infinite;\n",
              "  }\n",
              "\n",
              "  @keyframes spin {\n",
              "    0% {\n",
              "      border-color: transparent;\n",
              "      border-bottom-color: var(--fill-color);\n",
              "      border-left-color: var(--fill-color);\n",
              "    }\n",
              "    20% {\n",
              "      border-color: transparent;\n",
              "      border-left-color: var(--fill-color);\n",
              "      border-top-color: var(--fill-color);\n",
              "    }\n",
              "    30% {\n",
              "      border-color: transparent;\n",
              "      border-left-color: var(--fill-color);\n",
              "      border-top-color: var(--fill-color);\n",
              "      border-right-color: var(--fill-color);\n",
              "    }\n",
              "    40% {\n",
              "      border-color: transparent;\n",
              "      border-right-color: var(--fill-color);\n",
              "      border-top-color: var(--fill-color);\n",
              "    }\n",
              "    60% {\n",
              "      border-color: transparent;\n",
              "      border-right-color: var(--fill-color);\n",
              "    }\n",
              "    80% {\n",
              "      border-color: transparent;\n",
              "      border-right-color: var(--fill-color);\n",
              "      border-bottom-color: var(--fill-color);\n",
              "    }\n",
              "    90% {\n",
              "      border-color: transparent;\n",
              "      border-bottom-color: var(--fill-color);\n",
              "    }\n",
              "  }\n",
              "</style>\n",
              "\n",
              "  <script>\n",
              "    async function quickchart(key) {\n",
              "      const quickchartButtonEl =\n",
              "        document.querySelector('#' + key + ' button');\n",
              "      quickchartButtonEl.disabled = true;  // To prevent multiple clicks.\n",
              "      quickchartButtonEl.classList.add('colab-df-spinner');\n",
              "      try {\n",
              "        const charts = await google.colab.kernel.invokeFunction(\n",
              "            'suggestCharts', [key], {});\n",
              "      } catch (error) {\n",
              "        console.error('Error during call to suggestCharts:', error);\n",
              "      }\n",
              "      quickchartButtonEl.classList.remove('colab-df-spinner');\n",
              "      quickchartButtonEl.classList.add('colab-df-quickchart-complete');\n",
              "    }\n",
              "    (() => {\n",
              "      let quickchartButtonEl =\n",
              "        document.querySelector('#df-7df5166d-195e-4b83-aa28-5a9c3452b427 button');\n",
              "      quickchartButtonEl.style.display =\n",
              "        google.colab.kernel.accessAllowed ? 'block' : 'none';\n",
              "    })();\n",
              "  </script>\n",
              "</div>\n",
              "\n",
              "    </div>\n",
              "  </div>\n"
            ],
            "application/vnd.google.colaboratory.intrinsic+json": {
              "type": "dataframe",
              "repr_error": "0"
            }
          },
          "metadata": {},
          "execution_count": 17
        }
      ]
    },
    {
      "cell_type": "code",
      "source": [
        "data.info()\n"
      ],
      "metadata": {
        "id": "6NwJpusRExHa",
        "colab": {
          "base_uri": "https://localhost:8080/"
        },
        "outputId": "673869da-29a9-4183-a51e-86db99bca76d"
      },
      "execution_count": null,
      "outputs": [
        {
          "output_type": "stream",
          "name": "stdout",
          "text": [
            "<class 'pandas.core.frame.DataFrame'>\n",
            "RangeIndex: 997213 entries, 0 to 997212\n",
            "Data columns (total 11 columns):\n",
            " #   Column            Non-Null Count   Dtype  \n",
            "---  ------            --------------   -----  \n",
            " 0   Serial Number     997213 non-null  int64  \n",
            " 1   List Year         997213 non-null  int64  \n",
            " 2   Date Recorded     997213 non-null  object \n",
            " 3   Town              997213 non-null  object \n",
            " 4   Address           997213 non-null  object \n",
            " 5   Assessed Value    997213 non-null  int64  \n",
            " 6   Sale Amount       997213 non-null  float64\n",
            " 7   Sales Ratio       997213 non-null  float64\n",
            " 8   Property Type     997213 non-null  object \n",
            " 9   Residential Type  997213 non-null  object \n",
            " 10  Years until sold  997213 non-null  int64  \n",
            "dtypes: float64(2), int64(4), object(5)\n",
            "memory usage: 83.7+ MB\n"
          ]
        }
      ]
    },
    {
      "cell_type": "code",
      "source": [
        "data.isnull().sum()"
      ],
      "metadata": {
        "colab": {
          "base_uri": "https://localhost:8080/"
        },
        "id": "VV5xrQmhE6Bu",
        "outputId": "dafccc42-9f7f-4d15-ea0b-a8a1522d9e45"
      },
      "execution_count": null,
      "outputs": [
        {
          "output_type": "execute_result",
          "data": {
            "text/plain": [
              "Serial Number       0\n",
              "List Year           0\n",
              "Date Recorded       0\n",
              "Town                0\n",
              "Address             0\n",
              "Assessed Value      0\n",
              "Sale Amount         0\n",
              "Sales Ratio         0\n",
              "Property Type       0\n",
              "Residential Type    0\n",
              "Years until sold    0\n",
              "dtype: int64"
            ]
          },
          "metadata": {},
          "execution_count": 19
        }
      ]
    },
    {
      "cell_type": "code",
      "source": [
        "data.describe()"
      ],
      "metadata": {
        "colab": {
          "base_uri": "https://localhost:8080/",
          "height": 300
        },
        "id": "lQnO2luXObyr",
        "outputId": "b78e99d9-9f60-406e-ebda-e08d2eda2cc1"
      },
      "execution_count": null,
      "outputs": [
        {
          "output_type": "execute_result",
          "data": {
            "text/plain": [
              "       Serial Number      List Year  Assessed Value   Sale Amount  \\\n",
              "count   9.972130e+05  997213.000000    9.972130e+05  9.972130e+05   \n",
              "mean    4.311864e+05    2010.189829    2.791437e+05  3.911512e+05   \n",
              "std     6.549219e+06       6.237877    1.670610e+06  5.347270e+06   \n",
              "min     0.000000e+00    2001.000000    0.000000e+00  0.000000e+00   \n",
              "25%     3.044400e+04    2004.000000    8.760000e+04  1.400000e+05   \n",
              "50%     7.030300e+04    2010.000000    1.383900e+05  2.250000e+05   \n",
              "75%     1.518780e+05    2016.000000    2.255600e+05  3.650000e+05   \n",
              "max     2.000500e+09    2020.000000    8.815100e+08  5.000000e+09   \n",
              "\n",
              "        Sales Ratio  Years until sold  \n",
              "count  9.972130e+05     997213.000000  \n",
              "mean   1.044637e+01          0.750900  \n",
              "std    1.890192e+03          0.434742  \n",
              "min    0.000000e+00        -18.000000  \n",
              "25%    4.867000e-01          1.000000  \n",
              "50%    6.246000e-01          1.000000  \n",
              "75%    7.852761e-01          1.000000  \n",
              "max    1.226420e+06          4.000000  "
            ],
            "text/html": [
              "\n",
              "  <div id=\"df-78d0ea79-4ede-4da7-b973-fa969eab471a\" class=\"colab-df-container\">\n",
              "    <div>\n",
              "<style scoped>\n",
              "    .dataframe tbody tr th:only-of-type {\n",
              "        vertical-align: middle;\n",
              "    }\n",
              "\n",
              "    .dataframe tbody tr th {\n",
              "        vertical-align: top;\n",
              "    }\n",
              "\n",
              "    .dataframe thead th {\n",
              "        text-align: right;\n",
              "    }\n",
              "</style>\n",
              "<table border=\"1\" class=\"dataframe\">\n",
              "  <thead>\n",
              "    <tr style=\"text-align: right;\">\n",
              "      <th></th>\n",
              "      <th>Serial Number</th>\n",
              "      <th>List Year</th>\n",
              "      <th>Assessed Value</th>\n",
              "      <th>Sale Amount</th>\n",
              "      <th>Sales Ratio</th>\n",
              "      <th>Years until sold</th>\n",
              "    </tr>\n",
              "  </thead>\n",
              "  <tbody>\n",
              "    <tr>\n",
              "      <th>count</th>\n",
              "      <td>9.972130e+05</td>\n",
              "      <td>997213.000000</td>\n",
              "      <td>9.972130e+05</td>\n",
              "      <td>9.972130e+05</td>\n",
              "      <td>9.972130e+05</td>\n",
              "      <td>997213.000000</td>\n",
              "    </tr>\n",
              "    <tr>\n",
              "      <th>mean</th>\n",
              "      <td>4.311864e+05</td>\n",
              "      <td>2010.189829</td>\n",
              "      <td>2.791437e+05</td>\n",
              "      <td>3.911512e+05</td>\n",
              "      <td>1.044637e+01</td>\n",
              "      <td>0.750900</td>\n",
              "    </tr>\n",
              "    <tr>\n",
              "      <th>std</th>\n",
              "      <td>6.549219e+06</td>\n",
              "      <td>6.237877</td>\n",
              "      <td>1.670610e+06</td>\n",
              "      <td>5.347270e+06</td>\n",
              "      <td>1.890192e+03</td>\n",
              "      <td>0.434742</td>\n",
              "    </tr>\n",
              "    <tr>\n",
              "      <th>min</th>\n",
              "      <td>0.000000e+00</td>\n",
              "      <td>2001.000000</td>\n",
              "      <td>0.000000e+00</td>\n",
              "      <td>0.000000e+00</td>\n",
              "      <td>0.000000e+00</td>\n",
              "      <td>-18.000000</td>\n",
              "    </tr>\n",
              "    <tr>\n",
              "      <th>25%</th>\n",
              "      <td>3.044400e+04</td>\n",
              "      <td>2004.000000</td>\n",
              "      <td>8.760000e+04</td>\n",
              "      <td>1.400000e+05</td>\n",
              "      <td>4.867000e-01</td>\n",
              "      <td>1.000000</td>\n",
              "    </tr>\n",
              "    <tr>\n",
              "      <th>50%</th>\n",
              "      <td>7.030300e+04</td>\n",
              "      <td>2010.000000</td>\n",
              "      <td>1.383900e+05</td>\n",
              "      <td>2.250000e+05</td>\n",
              "      <td>6.246000e-01</td>\n",
              "      <td>1.000000</td>\n",
              "    </tr>\n",
              "    <tr>\n",
              "      <th>75%</th>\n",
              "      <td>1.518780e+05</td>\n",
              "      <td>2016.000000</td>\n",
              "      <td>2.255600e+05</td>\n",
              "      <td>3.650000e+05</td>\n",
              "      <td>7.852761e-01</td>\n",
              "      <td>1.000000</td>\n",
              "    </tr>\n",
              "    <tr>\n",
              "      <th>max</th>\n",
              "      <td>2.000500e+09</td>\n",
              "      <td>2020.000000</td>\n",
              "      <td>8.815100e+08</td>\n",
              "      <td>5.000000e+09</td>\n",
              "      <td>1.226420e+06</td>\n",
              "      <td>4.000000</td>\n",
              "    </tr>\n",
              "  </tbody>\n",
              "</table>\n",
              "</div>\n",
              "    <div class=\"colab-df-buttons\">\n",
              "\n",
              "  <div class=\"colab-df-container\">\n",
              "    <button class=\"colab-df-convert\" onclick=\"convertToInteractive('df-78d0ea79-4ede-4da7-b973-fa969eab471a')\"\n",
              "            title=\"Convert this dataframe to an interactive table.\"\n",
              "            style=\"display:none;\">\n",
              "\n",
              "  <svg xmlns=\"http://www.w3.org/2000/svg\" height=\"24px\" viewBox=\"0 -960 960 960\">\n",
              "    <path d=\"M120-120v-720h720v720H120Zm60-500h600v-160H180v160Zm220 220h160v-160H400v160Zm0 220h160v-160H400v160ZM180-400h160v-160H180v160Zm440 0h160v-160H620v160ZM180-180h160v-160H180v160Zm440 0h160v-160H620v160Z\"/>\n",
              "  </svg>\n",
              "    </button>\n",
              "\n",
              "  <style>\n",
              "    .colab-df-container {\n",
              "      display:flex;\n",
              "      gap: 12px;\n",
              "    }\n",
              "\n",
              "    .colab-df-convert {\n",
              "      background-color: #E8F0FE;\n",
              "      border: none;\n",
              "      border-radius: 50%;\n",
              "      cursor: pointer;\n",
              "      display: none;\n",
              "      fill: #1967D2;\n",
              "      height: 32px;\n",
              "      padding: 0 0 0 0;\n",
              "      width: 32px;\n",
              "    }\n",
              "\n",
              "    .colab-df-convert:hover {\n",
              "      background-color: #E2EBFA;\n",
              "      box-shadow: 0px 1px 2px rgba(60, 64, 67, 0.3), 0px 1px 3px 1px rgba(60, 64, 67, 0.15);\n",
              "      fill: #174EA6;\n",
              "    }\n",
              "\n",
              "    .colab-df-buttons div {\n",
              "      margin-bottom: 4px;\n",
              "    }\n",
              "\n",
              "    [theme=dark] .colab-df-convert {\n",
              "      background-color: #3B4455;\n",
              "      fill: #D2E3FC;\n",
              "    }\n",
              "\n",
              "    [theme=dark] .colab-df-convert:hover {\n",
              "      background-color: #434B5C;\n",
              "      box-shadow: 0px 1px 3px 1px rgba(0, 0, 0, 0.15);\n",
              "      filter: drop-shadow(0px 1px 2px rgba(0, 0, 0, 0.3));\n",
              "      fill: #FFFFFF;\n",
              "    }\n",
              "  </style>\n",
              "\n",
              "    <script>\n",
              "      const buttonEl =\n",
              "        document.querySelector('#df-78d0ea79-4ede-4da7-b973-fa969eab471a button.colab-df-convert');\n",
              "      buttonEl.style.display =\n",
              "        google.colab.kernel.accessAllowed ? 'block' : 'none';\n",
              "\n",
              "      async function convertToInteractive(key) {\n",
              "        const element = document.querySelector('#df-78d0ea79-4ede-4da7-b973-fa969eab471a');\n",
              "        const dataTable =\n",
              "          await google.colab.kernel.invokeFunction('convertToInteractive',\n",
              "                                                    [key], {});\n",
              "        if (!dataTable) return;\n",
              "\n",
              "        const docLinkHtml = 'Like what you see? Visit the ' +\n",
              "          '<a target=\"_blank\" href=https://colab.research.google.com/notebooks/data_table.ipynb>data table notebook</a>'\n",
              "          + ' to learn more about interactive tables.';\n",
              "        element.innerHTML = '';\n",
              "        dataTable['output_type'] = 'display_data';\n",
              "        await google.colab.output.renderOutput(dataTable, element);\n",
              "        const docLink = document.createElement('div');\n",
              "        docLink.innerHTML = docLinkHtml;\n",
              "        element.appendChild(docLink);\n",
              "      }\n",
              "    </script>\n",
              "  </div>\n",
              "\n",
              "\n",
              "<div id=\"df-b529b720-185e-47dd-a4bd-c9daa1e813ae\">\n",
              "  <button class=\"colab-df-quickchart\" onclick=\"quickchart('df-b529b720-185e-47dd-a4bd-c9daa1e813ae')\"\n",
              "            title=\"Suggest charts\"\n",
              "            style=\"display:none;\">\n",
              "\n",
              "<svg xmlns=\"http://www.w3.org/2000/svg\" height=\"24px\"viewBox=\"0 0 24 24\"\n",
              "     width=\"24px\">\n",
              "    <g>\n",
              "        <path d=\"M19 3H5c-1.1 0-2 .9-2 2v14c0 1.1.9 2 2 2h14c1.1 0 2-.9 2-2V5c0-1.1-.9-2-2-2zM9 17H7v-7h2v7zm4 0h-2V7h2v10zm4 0h-2v-4h2v4z\"/>\n",
              "    </g>\n",
              "</svg>\n",
              "  </button>\n",
              "\n",
              "<style>\n",
              "  .colab-df-quickchart {\n",
              "      --bg-color: #E8F0FE;\n",
              "      --fill-color: #1967D2;\n",
              "      --hover-bg-color: #E2EBFA;\n",
              "      --hover-fill-color: #174EA6;\n",
              "      --disabled-fill-color: #AAA;\n",
              "      --disabled-bg-color: #DDD;\n",
              "  }\n",
              "\n",
              "  [theme=dark] .colab-df-quickchart {\n",
              "      --bg-color: #3B4455;\n",
              "      --fill-color: #D2E3FC;\n",
              "      --hover-bg-color: #434B5C;\n",
              "      --hover-fill-color: #FFFFFF;\n",
              "      --disabled-bg-color: #3B4455;\n",
              "      --disabled-fill-color: #666;\n",
              "  }\n",
              "\n",
              "  .colab-df-quickchart {\n",
              "    background-color: var(--bg-color);\n",
              "    border: none;\n",
              "    border-radius: 50%;\n",
              "    cursor: pointer;\n",
              "    display: none;\n",
              "    fill: var(--fill-color);\n",
              "    height: 32px;\n",
              "    padding: 0;\n",
              "    width: 32px;\n",
              "  }\n",
              "\n",
              "  .colab-df-quickchart:hover {\n",
              "    background-color: var(--hover-bg-color);\n",
              "    box-shadow: 0 1px 2px rgba(60, 64, 67, 0.3), 0 1px 3px 1px rgba(60, 64, 67, 0.15);\n",
              "    fill: var(--button-hover-fill-color);\n",
              "  }\n",
              "\n",
              "  .colab-df-quickchart-complete:disabled,\n",
              "  .colab-df-quickchart-complete:disabled:hover {\n",
              "    background-color: var(--disabled-bg-color);\n",
              "    fill: var(--disabled-fill-color);\n",
              "    box-shadow: none;\n",
              "  }\n",
              "\n",
              "  .colab-df-spinner {\n",
              "    border: 2px solid var(--fill-color);\n",
              "    border-color: transparent;\n",
              "    border-bottom-color: var(--fill-color);\n",
              "    animation:\n",
              "      spin 1s steps(1) infinite;\n",
              "  }\n",
              "\n",
              "  @keyframes spin {\n",
              "    0% {\n",
              "      border-color: transparent;\n",
              "      border-bottom-color: var(--fill-color);\n",
              "      border-left-color: var(--fill-color);\n",
              "    }\n",
              "    20% {\n",
              "      border-color: transparent;\n",
              "      border-left-color: var(--fill-color);\n",
              "      border-top-color: var(--fill-color);\n",
              "    }\n",
              "    30% {\n",
              "      border-color: transparent;\n",
              "      border-left-color: var(--fill-color);\n",
              "      border-top-color: var(--fill-color);\n",
              "      border-right-color: var(--fill-color);\n",
              "    }\n",
              "    40% {\n",
              "      border-color: transparent;\n",
              "      border-right-color: var(--fill-color);\n",
              "      border-top-color: var(--fill-color);\n",
              "    }\n",
              "    60% {\n",
              "      border-color: transparent;\n",
              "      border-right-color: var(--fill-color);\n",
              "    }\n",
              "    80% {\n",
              "      border-color: transparent;\n",
              "      border-right-color: var(--fill-color);\n",
              "      border-bottom-color: var(--fill-color);\n",
              "    }\n",
              "    90% {\n",
              "      border-color: transparent;\n",
              "      border-bottom-color: var(--fill-color);\n",
              "    }\n",
              "  }\n",
              "</style>\n",
              "\n",
              "  <script>\n",
              "    async function quickchart(key) {\n",
              "      const quickchartButtonEl =\n",
              "        document.querySelector('#' + key + ' button');\n",
              "      quickchartButtonEl.disabled = true;  // To prevent multiple clicks.\n",
              "      quickchartButtonEl.classList.add('colab-df-spinner');\n",
              "      try {\n",
              "        const charts = await google.colab.kernel.invokeFunction(\n",
              "            'suggestCharts', [key], {});\n",
              "      } catch (error) {\n",
              "        console.error('Error during call to suggestCharts:', error);\n",
              "      }\n",
              "      quickchartButtonEl.classList.remove('colab-df-spinner');\n",
              "      quickchartButtonEl.classList.add('colab-df-quickchart-complete');\n",
              "    }\n",
              "    (() => {\n",
              "      let quickchartButtonEl =\n",
              "        document.querySelector('#df-b529b720-185e-47dd-a4bd-c9daa1e813ae button');\n",
              "      quickchartButtonEl.style.display =\n",
              "        google.colab.kernel.accessAllowed ? 'block' : 'none';\n",
              "    })();\n",
              "  </script>\n",
              "</div>\n",
              "\n",
              "    </div>\n",
              "  </div>\n"
            ],
            "application/vnd.google.colaboratory.intrinsic+json": {
              "type": "dataframe",
              "summary": "{\n  \"name\": \"data\",\n  \"rows\": 8,\n  \"fields\": [\n    {\n      \"column\": \"Serial Number\",\n      \"properties\": {\n        \"dtype\": \"number\",\n        \"std\": 706871354.5416034,\n        \"min\": 0.0,\n        \"max\": 2000500023.0,\n        \"samples\": [\n          431186.4096025623,\n          70303.0,\n          997213.0\n        ],\n        \"num_unique_values\": 8,\n        \"semantic_type\": \"\",\n        \"description\": \"\"\n      }\n    },\n    {\n      \"column\": \"List Year\",\n      \"properties\": {\n        \"dtype\": \"number\",\n        \"std\": 351959.2387773996,\n        \"min\": 6.2378765230456,\n        \"max\": 997213.0,\n        \"samples\": [\n          2010.1898290535723,\n          2010.0,\n          997213.0\n        ],\n        \"num_unique_values\": 8,\n        \"semantic_type\": \"\",\n        \"description\": \"\"\n      }\n    },\n    {\n      \"column\": \"Assessed Value\",\n      \"properties\": {\n        \"dtype\": \"number\",\n        \"std\": 311489723.6938841,\n        \"min\": 0.0,\n        \"max\": 881510000.0,\n        \"samples\": [\n          279143.66538643197,\n          138390.0,\n          997213.0\n        ],\n        \"num_unique_values\": 8,\n        \"semantic_type\": \"\",\n        \"description\": \"\"\n      }\n    },\n    {\n      \"column\": \"Sale Amount\",\n      \"properties\": {\n        \"dtype\": \"number\",\n        \"std\": 1767390769.8810513,\n        \"min\": 0.0,\n        \"max\": 5000000000.0,\n        \"samples\": [\n          391151.18354119925,\n          225000.0,\n          997213.0\n        ],\n        \"num_unique_values\": 8,\n        \"semantic_type\": \"\",\n        \"description\": \"\"\n      }\n    },\n    {\n      \"column\": \"Sales Ratio\",\n      \"properties\": {\n        \"dtype\": \"number\",\n        \"std\": 518158.4568246508,\n        \"min\": 0.0,\n        \"max\": 1226420.0,\n        \"samples\": [\n          10.446373631672348,\n          0.6246,\n          997213.0\n        ],\n        \"num_unique_values\": 8,\n        \"semantic_type\": \"\",\n        \"description\": \"\"\n      }\n    },\n    {\n      \"column\": \"Years until sold\",\n      \"properties\": {\n        \"dtype\": \"number\",\n        \"std\": 352568.53306047333,\n        \"min\": -18.0,\n        \"max\": 997213.0,\n        \"samples\": [\n          997213.0,\n          0.7508997576244995,\n          4.0\n        ],\n        \"num_unique_values\": 6,\n        \"semantic_type\": \"\",\n        \"description\": \"\"\n      }\n    }\n  ]\n}"
            }
          },
          "metadata": {},
          "execution_count": 20
        }
      ]
    },
    {
      "cell_type": "code",
      "source": [
        "data.columns"
      ],
      "metadata": {
        "colab": {
          "base_uri": "https://localhost:8080/"
        },
        "id": "P6b6Sbf5QwUt",
        "outputId": "c0dc301e-fdb1-47ed-cb93-736b4b236ccd"
      },
      "execution_count": null,
      "outputs": [
        {
          "output_type": "execute_result",
          "data": {
            "text/plain": [
              "Index(['Serial Number', 'List Year', 'Date Recorded', 'Town', 'Address',\n",
              "       'Assessed Value', 'Sale Amount', 'Sales Ratio', 'Property Type',\n",
              "       'Residential Type', 'Years until sold'],\n",
              "      dtype='object')"
            ]
          },
          "metadata": {},
          "execution_count": 21
        }
      ]
    },
    {
      "cell_type": "code",
      "source": [
        "data['Property Type'].value_counts() #to check the types of property sold and their popularity"
      ],
      "metadata": {
        "colab": {
          "base_uri": "https://localhost:8080/"
        },
        "id": "606MeMnCG2Uz",
        "outputId": "caf04c35-4274-488f-c8dc-be5f63b30455"
      },
      "execution_count": null,
      "outputs": [
        {
          "output_type": "execute_result",
          "data": {
            "text/plain": [
              "Single Family     401612\n",
              "Nan               382446\n",
              "Condo             105420\n",
              "Residential        60728\n",
              "Two Family         26408\n",
              "Three Family       12586\n",
              "Vacant Land         3163\n",
              "Four Family         2150\n",
              "Commercial          1981\n",
              "Apartments           486\n",
              "Industrial           228\n",
              "Public Utility         5\n",
              "Name: Property Type, dtype: int64"
            ]
          },
          "metadata": {},
          "execution_count": 22
        }
      ]
    },
    {
      "cell_type": "code",
      "source": [
        "data.dtypes # checking datatypes"
      ],
      "metadata": {
        "colab": {
          "base_uri": "https://localhost:8080/"
        },
        "id": "jBw5FRddO4yG",
        "outputId": "9d12a998-737b-47ce-ea10-0d463795b001"
      },
      "execution_count": null,
      "outputs": [
        {
          "output_type": "execute_result",
          "data": {
            "text/plain": [
              "Serial Number         int64\n",
              "List Year             int64\n",
              "Date Recorded        object\n",
              "Town                 object\n",
              "Address              object\n",
              "Assessed Value        int64\n",
              "Sale Amount         float64\n",
              "Sales Ratio         float64\n",
              "Property Type        object\n",
              "Residential Type     object\n",
              "Years until sold      int64\n",
              "dtype: object"
            ]
          },
          "metadata": {},
          "execution_count": 23
        }
      ]
    },
    {
      "cell_type": "markdown",
      "source": [
        "# CHANGING DATA TYPE"
      ],
      "metadata": {
        "id": "E0Lwo1ZCPGJD"
      }
    },
    {
      "cell_type": "code",
      "source": [
        "# in this we need change type of property, residential (object)into category\n",
        "data[\"Property Type\"]=data[\"Property Type\"].astype('category')\n",
        "data[\"Residential Type\"]=data[\"Residential Type\"].astype('category') #it helps in saving space or memory\n",
        "data.dtypes"
      ],
      "metadata": {
        "colab": {
          "base_uri": "https://localhost:8080/"
        },
        "id": "27TrNf1CPC-N",
        "outputId": "6afdf9b6-df91-4b66-bef6-f25d9026ae6c"
      },
      "execution_count": null,
      "outputs": [
        {
          "output_type": "execute_result",
          "data": {
            "text/plain": [
              "Serial Number          int64\n",
              "List Year              int64\n",
              "Date Recorded         object\n",
              "Town                  object\n",
              "Address               object\n",
              "Assessed Value         int64\n",
              "Sale Amount          float64\n",
              "Sales Ratio          float64\n",
              "Property Type       category\n",
              "Residential Type    category\n",
              "Years until sold       int64\n",
              "dtype: object"
            ]
          },
          "metadata": {},
          "execution_count": 24
        }
      ]
    },
    {
      "cell_type": "code",
      "source": [
        "data.sort_values(\"Assessed Value\",ascending=False).head(5) # Sorting"
      ],
      "metadata": {
        "colab": {
          "base_uri": "https://localhost:8080/",
          "height": 258
        },
        "id": "b2Zw3_i4Pcja",
        "outputId": "85fad622-3330-4c11-88a5-070cf604d3b4"
      },
      "execution_count": null,
      "outputs": [
        {
          "output_type": "execute_result",
          "data": {
            "text/plain": [
              "        Serial Number  List Year Date Recorded       Town        Address  \\\n",
              "846909         170909       2017     8/15/2018     Hamden   42 WARNER ST   \n",
              "993748         190201       2019    11/13/2019  Waterbury  64 ROBBINS ST   \n",
              "797865         150018       2015    10/19/2015   Suffield     TAINTOR ST   \n",
              "759246         150017       2015    10/19/2015   Suffield     TAINTOR ST   \n",
              "780886         150016       2015    10/19/2015   Suffield     TAINTOR ST   \n",
              "\n",
              "        Assessed Value  Sale Amount  Sales Ratio Property Type  \\\n",
              "846909       881510000    4680000.0   188.356800         Condo   \n",
              "993748       142858700  230043624.0     0.621000           Nan   \n",
              "797865       138958820      45319.0  3066.237560           Nan   \n",
              "759246       138958820      40356.0  3443.324908           Nan   \n",
              "780886       138958820      90096.0  1542.341724           Nan   \n",
              "\n",
              "       Residential Type  Years until sold  \n",
              "846909            Condo                 1  \n",
              "993748              Nan                 0  \n",
              "797865              Nan                 0  \n",
              "759246              Nan                 0  \n",
              "780886              Nan                 0  "
            ],
            "text/html": [
              "\n",
              "  <div id=\"df-0f4cbb62-ccfd-42d4-8c6e-54881ead02b6\" class=\"colab-df-container\">\n",
              "    <div>\n",
              "<style scoped>\n",
              "    .dataframe tbody tr th:only-of-type {\n",
              "        vertical-align: middle;\n",
              "    }\n",
              "\n",
              "    .dataframe tbody tr th {\n",
              "        vertical-align: top;\n",
              "    }\n",
              "\n",
              "    .dataframe thead th {\n",
              "        text-align: right;\n",
              "    }\n",
              "</style>\n",
              "<table border=\"1\" class=\"dataframe\">\n",
              "  <thead>\n",
              "    <tr style=\"text-align: right;\">\n",
              "      <th></th>\n",
              "      <th>Serial Number</th>\n",
              "      <th>List Year</th>\n",
              "      <th>Date Recorded</th>\n",
              "      <th>Town</th>\n",
              "      <th>Address</th>\n",
              "      <th>Assessed Value</th>\n",
              "      <th>Sale Amount</th>\n",
              "      <th>Sales Ratio</th>\n",
              "      <th>Property Type</th>\n",
              "      <th>Residential Type</th>\n",
              "      <th>Years until sold</th>\n",
              "    </tr>\n",
              "  </thead>\n",
              "  <tbody>\n",
              "    <tr>\n",
              "      <th>846909</th>\n",
              "      <td>170909</td>\n",
              "      <td>2017</td>\n",
              "      <td>8/15/2018</td>\n",
              "      <td>Hamden</td>\n",
              "      <td>42 WARNER ST</td>\n",
              "      <td>881510000</td>\n",
              "      <td>4680000.0</td>\n",
              "      <td>188.356800</td>\n",
              "      <td>Condo</td>\n",
              "      <td>Condo</td>\n",
              "      <td>1</td>\n",
              "    </tr>\n",
              "    <tr>\n",
              "      <th>993748</th>\n",
              "      <td>190201</td>\n",
              "      <td>2019</td>\n",
              "      <td>11/13/2019</td>\n",
              "      <td>Waterbury</td>\n",
              "      <td>64 ROBBINS ST</td>\n",
              "      <td>142858700</td>\n",
              "      <td>230043624.0</td>\n",
              "      <td>0.621000</td>\n",
              "      <td>Nan</td>\n",
              "      <td>Nan</td>\n",
              "      <td>0</td>\n",
              "    </tr>\n",
              "    <tr>\n",
              "      <th>797865</th>\n",
              "      <td>150018</td>\n",
              "      <td>2015</td>\n",
              "      <td>10/19/2015</td>\n",
              "      <td>Suffield</td>\n",
              "      <td>TAINTOR ST</td>\n",
              "      <td>138958820</td>\n",
              "      <td>45319.0</td>\n",
              "      <td>3066.237560</td>\n",
              "      <td>Nan</td>\n",
              "      <td>Nan</td>\n",
              "      <td>0</td>\n",
              "    </tr>\n",
              "    <tr>\n",
              "      <th>759246</th>\n",
              "      <td>150017</td>\n",
              "      <td>2015</td>\n",
              "      <td>10/19/2015</td>\n",
              "      <td>Suffield</td>\n",
              "      <td>TAINTOR ST</td>\n",
              "      <td>138958820</td>\n",
              "      <td>40356.0</td>\n",
              "      <td>3443.324908</td>\n",
              "      <td>Nan</td>\n",
              "      <td>Nan</td>\n",
              "      <td>0</td>\n",
              "    </tr>\n",
              "    <tr>\n",
              "      <th>780886</th>\n",
              "      <td>150016</td>\n",
              "      <td>2015</td>\n",
              "      <td>10/19/2015</td>\n",
              "      <td>Suffield</td>\n",
              "      <td>TAINTOR ST</td>\n",
              "      <td>138958820</td>\n",
              "      <td>90096.0</td>\n",
              "      <td>1542.341724</td>\n",
              "      <td>Nan</td>\n",
              "      <td>Nan</td>\n",
              "      <td>0</td>\n",
              "    </tr>\n",
              "  </tbody>\n",
              "</table>\n",
              "</div>\n",
              "    <div class=\"colab-df-buttons\">\n",
              "\n",
              "  <div class=\"colab-df-container\">\n",
              "    <button class=\"colab-df-convert\" onclick=\"convertToInteractive('df-0f4cbb62-ccfd-42d4-8c6e-54881ead02b6')\"\n",
              "            title=\"Convert this dataframe to an interactive table.\"\n",
              "            style=\"display:none;\">\n",
              "\n",
              "  <svg xmlns=\"http://www.w3.org/2000/svg\" height=\"24px\" viewBox=\"0 -960 960 960\">\n",
              "    <path d=\"M120-120v-720h720v720H120Zm60-500h600v-160H180v160Zm220 220h160v-160H400v160Zm0 220h160v-160H400v160ZM180-400h160v-160H180v160Zm440 0h160v-160H620v160ZM180-180h160v-160H180v160Zm440 0h160v-160H620v160Z\"/>\n",
              "  </svg>\n",
              "    </button>\n",
              "\n",
              "  <style>\n",
              "    .colab-df-container {\n",
              "      display:flex;\n",
              "      gap: 12px;\n",
              "    }\n",
              "\n",
              "    .colab-df-convert {\n",
              "      background-color: #E8F0FE;\n",
              "      border: none;\n",
              "      border-radius: 50%;\n",
              "      cursor: pointer;\n",
              "      display: none;\n",
              "      fill: #1967D2;\n",
              "      height: 32px;\n",
              "      padding: 0 0 0 0;\n",
              "      width: 32px;\n",
              "    }\n",
              "\n",
              "    .colab-df-convert:hover {\n",
              "      background-color: #E2EBFA;\n",
              "      box-shadow: 0px 1px 2px rgba(60, 64, 67, 0.3), 0px 1px 3px 1px rgba(60, 64, 67, 0.15);\n",
              "      fill: #174EA6;\n",
              "    }\n",
              "\n",
              "    .colab-df-buttons div {\n",
              "      margin-bottom: 4px;\n",
              "    }\n",
              "\n",
              "    [theme=dark] .colab-df-convert {\n",
              "      background-color: #3B4455;\n",
              "      fill: #D2E3FC;\n",
              "    }\n",
              "\n",
              "    [theme=dark] .colab-df-convert:hover {\n",
              "      background-color: #434B5C;\n",
              "      box-shadow: 0px 1px 3px 1px rgba(0, 0, 0, 0.15);\n",
              "      filter: drop-shadow(0px 1px 2px rgba(0, 0, 0, 0.3));\n",
              "      fill: #FFFFFF;\n",
              "    }\n",
              "  </style>\n",
              "\n",
              "    <script>\n",
              "      const buttonEl =\n",
              "        document.querySelector('#df-0f4cbb62-ccfd-42d4-8c6e-54881ead02b6 button.colab-df-convert');\n",
              "      buttonEl.style.display =\n",
              "        google.colab.kernel.accessAllowed ? 'block' : 'none';\n",
              "\n",
              "      async function convertToInteractive(key) {\n",
              "        const element = document.querySelector('#df-0f4cbb62-ccfd-42d4-8c6e-54881ead02b6');\n",
              "        const dataTable =\n",
              "          await google.colab.kernel.invokeFunction('convertToInteractive',\n",
              "                                                    [key], {});\n",
              "        if (!dataTable) return;\n",
              "\n",
              "        const docLinkHtml = 'Like what you see? Visit the ' +\n",
              "          '<a target=\"_blank\" href=https://colab.research.google.com/notebooks/data_table.ipynb>data table notebook</a>'\n",
              "          + ' to learn more about interactive tables.';\n",
              "        element.innerHTML = '';\n",
              "        dataTable['output_type'] = 'display_data';\n",
              "        await google.colab.output.renderOutput(dataTable, element);\n",
              "        const docLink = document.createElement('div');\n",
              "        docLink.innerHTML = docLinkHtml;\n",
              "        element.appendChild(docLink);\n",
              "      }\n",
              "    </script>\n",
              "  </div>\n",
              "\n",
              "\n",
              "<div id=\"df-5d8e66e4-fde6-481a-a6b0-dfed54fd07f0\">\n",
              "  <button class=\"colab-df-quickchart\" onclick=\"quickchart('df-5d8e66e4-fde6-481a-a6b0-dfed54fd07f0')\"\n",
              "            title=\"Suggest charts\"\n",
              "            style=\"display:none;\">\n",
              "\n",
              "<svg xmlns=\"http://www.w3.org/2000/svg\" height=\"24px\"viewBox=\"0 0 24 24\"\n",
              "     width=\"24px\">\n",
              "    <g>\n",
              "        <path d=\"M19 3H5c-1.1 0-2 .9-2 2v14c0 1.1.9 2 2 2h14c1.1 0 2-.9 2-2V5c0-1.1-.9-2-2-2zM9 17H7v-7h2v7zm4 0h-2V7h2v10zm4 0h-2v-4h2v4z\"/>\n",
              "    </g>\n",
              "</svg>\n",
              "  </button>\n",
              "\n",
              "<style>\n",
              "  .colab-df-quickchart {\n",
              "      --bg-color: #E8F0FE;\n",
              "      --fill-color: #1967D2;\n",
              "      --hover-bg-color: #E2EBFA;\n",
              "      --hover-fill-color: #174EA6;\n",
              "      --disabled-fill-color: #AAA;\n",
              "      --disabled-bg-color: #DDD;\n",
              "  }\n",
              "\n",
              "  [theme=dark] .colab-df-quickchart {\n",
              "      --bg-color: #3B4455;\n",
              "      --fill-color: #D2E3FC;\n",
              "      --hover-bg-color: #434B5C;\n",
              "      --hover-fill-color: #FFFFFF;\n",
              "      --disabled-bg-color: #3B4455;\n",
              "      --disabled-fill-color: #666;\n",
              "  }\n",
              "\n",
              "  .colab-df-quickchart {\n",
              "    background-color: var(--bg-color);\n",
              "    border: none;\n",
              "    border-radius: 50%;\n",
              "    cursor: pointer;\n",
              "    display: none;\n",
              "    fill: var(--fill-color);\n",
              "    height: 32px;\n",
              "    padding: 0;\n",
              "    width: 32px;\n",
              "  }\n",
              "\n",
              "  .colab-df-quickchart:hover {\n",
              "    background-color: var(--hover-bg-color);\n",
              "    box-shadow: 0 1px 2px rgba(60, 64, 67, 0.3), 0 1px 3px 1px rgba(60, 64, 67, 0.15);\n",
              "    fill: var(--button-hover-fill-color);\n",
              "  }\n",
              "\n",
              "  .colab-df-quickchart-complete:disabled,\n",
              "  .colab-df-quickchart-complete:disabled:hover {\n",
              "    background-color: var(--disabled-bg-color);\n",
              "    fill: var(--disabled-fill-color);\n",
              "    box-shadow: none;\n",
              "  }\n",
              "\n",
              "  .colab-df-spinner {\n",
              "    border: 2px solid var(--fill-color);\n",
              "    border-color: transparent;\n",
              "    border-bottom-color: var(--fill-color);\n",
              "    animation:\n",
              "      spin 1s steps(1) infinite;\n",
              "  }\n",
              "\n",
              "  @keyframes spin {\n",
              "    0% {\n",
              "      border-color: transparent;\n",
              "      border-bottom-color: var(--fill-color);\n",
              "      border-left-color: var(--fill-color);\n",
              "    }\n",
              "    20% {\n",
              "      border-color: transparent;\n",
              "      border-left-color: var(--fill-color);\n",
              "      border-top-color: var(--fill-color);\n",
              "    }\n",
              "    30% {\n",
              "      border-color: transparent;\n",
              "      border-left-color: var(--fill-color);\n",
              "      border-top-color: var(--fill-color);\n",
              "      border-right-color: var(--fill-color);\n",
              "    }\n",
              "    40% {\n",
              "      border-color: transparent;\n",
              "      border-right-color: var(--fill-color);\n",
              "      border-top-color: var(--fill-color);\n",
              "    }\n",
              "    60% {\n",
              "      border-color: transparent;\n",
              "      border-right-color: var(--fill-color);\n",
              "    }\n",
              "    80% {\n",
              "      border-color: transparent;\n",
              "      border-right-color: var(--fill-color);\n",
              "      border-bottom-color: var(--fill-color);\n",
              "    }\n",
              "    90% {\n",
              "      border-color: transparent;\n",
              "      border-bottom-color: var(--fill-color);\n",
              "    }\n",
              "  }\n",
              "</style>\n",
              "\n",
              "  <script>\n",
              "    async function quickchart(key) {\n",
              "      const quickchartButtonEl =\n",
              "        document.querySelector('#' + key + ' button');\n",
              "      quickchartButtonEl.disabled = true;  // To prevent multiple clicks.\n",
              "      quickchartButtonEl.classList.add('colab-df-spinner');\n",
              "      try {\n",
              "        const charts = await google.colab.kernel.invokeFunction(\n",
              "            'suggestCharts', [key], {});\n",
              "      } catch (error) {\n",
              "        console.error('Error during call to suggestCharts:', error);\n",
              "      }\n",
              "      quickchartButtonEl.classList.remove('colab-df-spinner');\n",
              "      quickchartButtonEl.classList.add('colab-df-quickchart-complete');\n",
              "    }\n",
              "    (() => {\n",
              "      let quickchartButtonEl =\n",
              "        document.querySelector('#df-5d8e66e4-fde6-481a-a6b0-dfed54fd07f0 button');\n",
              "      quickchartButtonEl.style.display =\n",
              "        google.colab.kernel.accessAllowed ? 'block' : 'none';\n",
              "    })();\n",
              "  </script>\n",
              "</div>\n",
              "\n",
              "    </div>\n",
              "  </div>\n"
            ],
            "application/vnd.google.colaboratory.intrinsic+json": {
              "type": "dataframe",
              "repr_error": "0"
            }
          },
          "metadata": {},
          "execution_count": 25
        }
      ]
    },
    {
      "cell_type": "code",
      "source": [],
      "metadata": {
        "id": "kdgmMgtIYhvn"
      },
      "execution_count": null,
      "outputs": []
    },
    {
      "cell_type": "markdown",
      "source": [
        "#Mathematical operation"
      ],
      "metadata": {
        "id": "BIZrifXtRfTW"
      }
    },
    {
      "cell_type": "code",
      "source": [
        "data[\"Years until sold\"].mean() # mathematical operation"
      ],
      "metadata": {
        "colab": {
          "base_uri": "https://localhost:8080/"
        },
        "id": "wgkp2lBTQOxU",
        "outputId": "f0dfc193-4992-48a6-d4d4-e67ccd4b6306"
      },
      "execution_count": null,
      "outputs": [
        {
          "output_type": "execute_result",
          "data": {
            "text/plain": [
              "0.7508997576244995"
            ]
          },
          "metadata": {},
          "execution_count": 26
        }
      ]
    },
    {
      "cell_type": "code",
      "source": [
        "data[\"Sale Amount\"].mean()"
      ],
      "metadata": {
        "colab": {
          "base_uri": "https://localhost:8080/"
        },
        "id": "tkszILm3QvVK",
        "outputId": "1bbe43c0-6808-4a2e-b94a-88907735d3b0"
      },
      "execution_count": null,
      "outputs": [
        {
          "output_type": "execute_result",
          "data": {
            "text/plain": [
              "391151.18354119925"
            ]
          },
          "metadata": {},
          "execution_count": 27
        }
      ]
    },
    {
      "cell_type": "code",
      "source": [
        "data[\"Assessed Value\"].median()"
      ],
      "metadata": {
        "colab": {
          "base_uri": "https://localhost:8080/"
        },
        "id": "qtHuvqiQRPsz",
        "outputId": "645a1035-2509-4c87-877f-c728b82ce9d8"
      },
      "execution_count": null,
      "outputs": [
        {
          "output_type": "execute_result",
          "data": {
            "text/plain": [
              "138390.0"
            ]
          },
          "metadata": {},
          "execution_count": 28
        }
      ]
    },
    {
      "cell_type": "markdown",
      "source": [
        "# SELECTING RANDOM DATA"
      ],
      "metadata": {
        "id": "hPwAB0UIR4Ra"
      }
    },
    {
      "cell_type": "code",
      "source": [
        "data.sample(n=10) #for 10 random samples"
      ],
      "metadata": {
        "colab": {
          "base_uri": "https://localhost:8080/",
          "height": 397
        },
        "id": "ww_V5_UgRXug",
        "outputId": "d7160fbe-6a1a-4818-8e24-91ed43c235d4"
      },
      "execution_count": null,
      "outputs": [
        {
          "output_type": "execute_result",
          "data": {
            "text/plain": [
              "        Serial Number  List Year Date Recorded        Town            Address  \\\n",
              "135836          10010       2001    10/17/2001      Weston   32 LITTLE FOX LN   \n",
              "324580          40086       2004     5/17/2005  Washington      58 SHEARER RD   \n",
              "502880          80179       2008    09/01/2009   Ellington    1 ABBOTT RD #45   \n",
              "858925         170467       2017     3/29/2018   Stratford       53 CANAAN RD   \n",
              "279358          40700       2004     7/21/2005     Enfield      1 ROCKLAND DR   \n",
              "410236          60252       2006     5/31/2007    Guilford   607 LONG HILL RD   \n",
              "916675         180025       2018    03/06/2019      Canaan      354 ROUTE 7 N   \n",
              "760042         150221       2015    03/10/2016    Branford  29 OLD HICKORY LA   \n",
              "922958         180047       2018    11/09/2018   Waterford      9 CHARLES AVE   \n",
              "142903          20719       2002     5/16/2003   Fairfield      32 CLINTON ST   \n",
              "\n",
              "        Assessed Value  Sale Amount  Sales Ratio  Property Type  \\\n",
              "135836          244930     540000.0     0.453574            Nan   \n",
              "324580          372260     362500.0     1.026924            Nan   \n",
              "502880           76180     133000.0     0.572782          Condo   \n",
              "858925          140070     222000.0     0.630900  Single Family   \n",
              "279358           96320      55000.0     1.751273            Nan   \n",
              "410236          194840     370000.0     0.526595  Single Family   \n",
              "916675          567000     540000.0     1.050000  Single Family   \n",
              "760042          193800     260000.0     0.745385  Single Family   \n",
              "922958          130030      53300.0     2.439500  Single Family   \n",
              "142903          239820     442000.0     0.542579            Nan   \n",
              "\n",
              "       Residential Type  Years until sold  \n",
              "135836              Nan                 0  \n",
              "324580              Nan                 1  \n",
              "502880            Condo                 1  \n",
              "858925    Single Family                 1  \n",
              "279358              Nan                 1  \n",
              "410236    Single Family                 1  \n",
              "916675    Single Family                 1  \n",
              "760042    Single Family                 1  \n",
              "922958    Single Family                 0  \n",
              "142903              Nan                 1  "
            ],
            "text/html": [
              "\n",
              "  <div id=\"df-7d0c53a5-2eae-4f57-a6cf-83fadda1566c\" class=\"colab-df-container\">\n",
              "    <div>\n",
              "<style scoped>\n",
              "    .dataframe tbody tr th:only-of-type {\n",
              "        vertical-align: middle;\n",
              "    }\n",
              "\n",
              "    .dataframe tbody tr th {\n",
              "        vertical-align: top;\n",
              "    }\n",
              "\n",
              "    .dataframe thead th {\n",
              "        text-align: right;\n",
              "    }\n",
              "</style>\n",
              "<table border=\"1\" class=\"dataframe\">\n",
              "  <thead>\n",
              "    <tr style=\"text-align: right;\">\n",
              "      <th></th>\n",
              "      <th>Serial Number</th>\n",
              "      <th>List Year</th>\n",
              "      <th>Date Recorded</th>\n",
              "      <th>Town</th>\n",
              "      <th>Address</th>\n",
              "      <th>Assessed Value</th>\n",
              "      <th>Sale Amount</th>\n",
              "      <th>Sales Ratio</th>\n",
              "      <th>Property Type</th>\n",
              "      <th>Residential Type</th>\n",
              "      <th>Years until sold</th>\n",
              "    </tr>\n",
              "  </thead>\n",
              "  <tbody>\n",
              "    <tr>\n",
              "      <th>135836</th>\n",
              "      <td>10010</td>\n",
              "      <td>2001</td>\n",
              "      <td>10/17/2001</td>\n",
              "      <td>Weston</td>\n",
              "      <td>32 LITTLE FOX LN</td>\n",
              "      <td>244930</td>\n",
              "      <td>540000.0</td>\n",
              "      <td>0.453574</td>\n",
              "      <td>Nan</td>\n",
              "      <td>Nan</td>\n",
              "      <td>0</td>\n",
              "    </tr>\n",
              "    <tr>\n",
              "      <th>324580</th>\n",
              "      <td>40086</td>\n",
              "      <td>2004</td>\n",
              "      <td>5/17/2005</td>\n",
              "      <td>Washington</td>\n",
              "      <td>58 SHEARER RD</td>\n",
              "      <td>372260</td>\n",
              "      <td>362500.0</td>\n",
              "      <td>1.026924</td>\n",
              "      <td>Nan</td>\n",
              "      <td>Nan</td>\n",
              "      <td>1</td>\n",
              "    </tr>\n",
              "    <tr>\n",
              "      <th>502880</th>\n",
              "      <td>80179</td>\n",
              "      <td>2008</td>\n",
              "      <td>09/01/2009</td>\n",
              "      <td>Ellington</td>\n",
              "      <td>1 ABBOTT RD #45</td>\n",
              "      <td>76180</td>\n",
              "      <td>133000.0</td>\n",
              "      <td>0.572782</td>\n",
              "      <td>Condo</td>\n",
              "      <td>Condo</td>\n",
              "      <td>1</td>\n",
              "    </tr>\n",
              "    <tr>\n",
              "      <th>858925</th>\n",
              "      <td>170467</td>\n",
              "      <td>2017</td>\n",
              "      <td>3/29/2018</td>\n",
              "      <td>Stratford</td>\n",
              "      <td>53 CANAAN RD</td>\n",
              "      <td>140070</td>\n",
              "      <td>222000.0</td>\n",
              "      <td>0.630900</td>\n",
              "      <td>Single Family</td>\n",
              "      <td>Single Family</td>\n",
              "      <td>1</td>\n",
              "    </tr>\n",
              "    <tr>\n",
              "      <th>279358</th>\n",
              "      <td>40700</td>\n",
              "      <td>2004</td>\n",
              "      <td>7/21/2005</td>\n",
              "      <td>Enfield</td>\n",
              "      <td>1 ROCKLAND DR</td>\n",
              "      <td>96320</td>\n",
              "      <td>55000.0</td>\n",
              "      <td>1.751273</td>\n",
              "      <td>Nan</td>\n",
              "      <td>Nan</td>\n",
              "      <td>1</td>\n",
              "    </tr>\n",
              "    <tr>\n",
              "      <th>410236</th>\n",
              "      <td>60252</td>\n",
              "      <td>2006</td>\n",
              "      <td>5/31/2007</td>\n",
              "      <td>Guilford</td>\n",
              "      <td>607 LONG HILL RD</td>\n",
              "      <td>194840</td>\n",
              "      <td>370000.0</td>\n",
              "      <td>0.526595</td>\n",
              "      <td>Single Family</td>\n",
              "      <td>Single Family</td>\n",
              "      <td>1</td>\n",
              "    </tr>\n",
              "    <tr>\n",
              "      <th>916675</th>\n",
              "      <td>180025</td>\n",
              "      <td>2018</td>\n",
              "      <td>03/06/2019</td>\n",
              "      <td>Canaan</td>\n",
              "      <td>354 ROUTE 7 N</td>\n",
              "      <td>567000</td>\n",
              "      <td>540000.0</td>\n",
              "      <td>1.050000</td>\n",
              "      <td>Single Family</td>\n",
              "      <td>Single Family</td>\n",
              "      <td>1</td>\n",
              "    </tr>\n",
              "    <tr>\n",
              "      <th>760042</th>\n",
              "      <td>150221</td>\n",
              "      <td>2015</td>\n",
              "      <td>03/10/2016</td>\n",
              "      <td>Branford</td>\n",
              "      <td>29 OLD HICKORY LA</td>\n",
              "      <td>193800</td>\n",
              "      <td>260000.0</td>\n",
              "      <td>0.745385</td>\n",
              "      <td>Single Family</td>\n",
              "      <td>Single Family</td>\n",
              "      <td>1</td>\n",
              "    </tr>\n",
              "    <tr>\n",
              "      <th>922958</th>\n",
              "      <td>180047</td>\n",
              "      <td>2018</td>\n",
              "      <td>11/09/2018</td>\n",
              "      <td>Waterford</td>\n",
              "      <td>9 CHARLES AVE</td>\n",
              "      <td>130030</td>\n",
              "      <td>53300.0</td>\n",
              "      <td>2.439500</td>\n",
              "      <td>Single Family</td>\n",
              "      <td>Single Family</td>\n",
              "      <td>0</td>\n",
              "    </tr>\n",
              "    <tr>\n",
              "      <th>142903</th>\n",
              "      <td>20719</td>\n",
              "      <td>2002</td>\n",
              "      <td>5/16/2003</td>\n",
              "      <td>Fairfield</td>\n",
              "      <td>32 CLINTON ST</td>\n",
              "      <td>239820</td>\n",
              "      <td>442000.0</td>\n",
              "      <td>0.542579</td>\n",
              "      <td>Nan</td>\n",
              "      <td>Nan</td>\n",
              "      <td>1</td>\n",
              "    </tr>\n",
              "  </tbody>\n",
              "</table>\n",
              "</div>\n",
              "    <div class=\"colab-df-buttons\">\n",
              "\n",
              "  <div class=\"colab-df-container\">\n",
              "    <button class=\"colab-df-convert\" onclick=\"convertToInteractive('df-7d0c53a5-2eae-4f57-a6cf-83fadda1566c')\"\n",
              "            title=\"Convert this dataframe to an interactive table.\"\n",
              "            style=\"display:none;\">\n",
              "\n",
              "  <svg xmlns=\"http://www.w3.org/2000/svg\" height=\"24px\" viewBox=\"0 -960 960 960\">\n",
              "    <path d=\"M120-120v-720h720v720H120Zm60-500h600v-160H180v160Zm220 220h160v-160H400v160Zm0 220h160v-160H400v160ZM180-400h160v-160H180v160Zm440 0h160v-160H620v160ZM180-180h160v-160H180v160Zm440 0h160v-160H620v160Z\"/>\n",
              "  </svg>\n",
              "    </button>\n",
              "\n",
              "  <style>\n",
              "    .colab-df-container {\n",
              "      display:flex;\n",
              "      gap: 12px;\n",
              "    }\n",
              "\n",
              "    .colab-df-convert {\n",
              "      background-color: #E8F0FE;\n",
              "      border: none;\n",
              "      border-radius: 50%;\n",
              "      cursor: pointer;\n",
              "      display: none;\n",
              "      fill: #1967D2;\n",
              "      height: 32px;\n",
              "      padding: 0 0 0 0;\n",
              "      width: 32px;\n",
              "    }\n",
              "\n",
              "    .colab-df-convert:hover {\n",
              "      background-color: #E2EBFA;\n",
              "      box-shadow: 0px 1px 2px rgba(60, 64, 67, 0.3), 0px 1px 3px 1px rgba(60, 64, 67, 0.15);\n",
              "      fill: #174EA6;\n",
              "    }\n",
              "\n",
              "    .colab-df-buttons div {\n",
              "      margin-bottom: 4px;\n",
              "    }\n",
              "\n",
              "    [theme=dark] .colab-df-convert {\n",
              "      background-color: #3B4455;\n",
              "      fill: #D2E3FC;\n",
              "    }\n",
              "\n",
              "    [theme=dark] .colab-df-convert:hover {\n",
              "      background-color: #434B5C;\n",
              "      box-shadow: 0px 1px 3px 1px rgba(0, 0, 0, 0.15);\n",
              "      filter: drop-shadow(0px 1px 2px rgba(0, 0, 0, 0.3));\n",
              "      fill: #FFFFFF;\n",
              "    }\n",
              "  </style>\n",
              "\n",
              "    <script>\n",
              "      const buttonEl =\n",
              "        document.querySelector('#df-7d0c53a5-2eae-4f57-a6cf-83fadda1566c button.colab-df-convert');\n",
              "      buttonEl.style.display =\n",
              "        google.colab.kernel.accessAllowed ? 'block' : 'none';\n",
              "\n",
              "      async function convertToInteractive(key) {\n",
              "        const element = document.querySelector('#df-7d0c53a5-2eae-4f57-a6cf-83fadda1566c');\n",
              "        const dataTable =\n",
              "          await google.colab.kernel.invokeFunction('convertToInteractive',\n",
              "                                                    [key], {});\n",
              "        if (!dataTable) return;\n",
              "\n",
              "        const docLinkHtml = 'Like what you see? Visit the ' +\n",
              "          '<a target=\"_blank\" href=https://colab.research.google.com/notebooks/data_table.ipynb>data table notebook</a>'\n",
              "          + ' to learn more about interactive tables.';\n",
              "        element.innerHTML = '';\n",
              "        dataTable['output_type'] = 'display_data';\n",
              "        await google.colab.output.renderOutput(dataTable, element);\n",
              "        const docLink = document.createElement('div');\n",
              "        docLink.innerHTML = docLinkHtml;\n",
              "        element.appendChild(docLink);\n",
              "      }\n",
              "    </script>\n",
              "  </div>\n",
              "\n",
              "\n",
              "<div id=\"df-a7f316f0-3011-4797-98cf-024c37bc2e42\">\n",
              "  <button class=\"colab-df-quickchart\" onclick=\"quickchart('df-a7f316f0-3011-4797-98cf-024c37bc2e42')\"\n",
              "            title=\"Suggest charts\"\n",
              "            style=\"display:none;\">\n",
              "\n",
              "<svg xmlns=\"http://www.w3.org/2000/svg\" height=\"24px\"viewBox=\"0 0 24 24\"\n",
              "     width=\"24px\">\n",
              "    <g>\n",
              "        <path d=\"M19 3H5c-1.1 0-2 .9-2 2v14c0 1.1.9 2 2 2h14c1.1 0 2-.9 2-2V5c0-1.1-.9-2-2-2zM9 17H7v-7h2v7zm4 0h-2V7h2v10zm4 0h-2v-4h2v4z\"/>\n",
              "    </g>\n",
              "</svg>\n",
              "  </button>\n",
              "\n",
              "<style>\n",
              "  .colab-df-quickchart {\n",
              "      --bg-color: #E8F0FE;\n",
              "      --fill-color: #1967D2;\n",
              "      --hover-bg-color: #E2EBFA;\n",
              "      --hover-fill-color: #174EA6;\n",
              "      --disabled-fill-color: #AAA;\n",
              "      --disabled-bg-color: #DDD;\n",
              "  }\n",
              "\n",
              "  [theme=dark] .colab-df-quickchart {\n",
              "      --bg-color: #3B4455;\n",
              "      --fill-color: #D2E3FC;\n",
              "      --hover-bg-color: #434B5C;\n",
              "      --hover-fill-color: #FFFFFF;\n",
              "      --disabled-bg-color: #3B4455;\n",
              "      --disabled-fill-color: #666;\n",
              "  }\n",
              "\n",
              "  .colab-df-quickchart {\n",
              "    background-color: var(--bg-color);\n",
              "    border: none;\n",
              "    border-radius: 50%;\n",
              "    cursor: pointer;\n",
              "    display: none;\n",
              "    fill: var(--fill-color);\n",
              "    height: 32px;\n",
              "    padding: 0;\n",
              "    width: 32px;\n",
              "  }\n",
              "\n",
              "  .colab-df-quickchart:hover {\n",
              "    background-color: var(--hover-bg-color);\n",
              "    box-shadow: 0 1px 2px rgba(60, 64, 67, 0.3), 0 1px 3px 1px rgba(60, 64, 67, 0.15);\n",
              "    fill: var(--button-hover-fill-color);\n",
              "  }\n",
              "\n",
              "  .colab-df-quickchart-complete:disabled,\n",
              "  .colab-df-quickchart-complete:disabled:hover {\n",
              "    background-color: var(--disabled-bg-color);\n",
              "    fill: var(--disabled-fill-color);\n",
              "    box-shadow: none;\n",
              "  }\n",
              "\n",
              "  .colab-df-spinner {\n",
              "    border: 2px solid var(--fill-color);\n",
              "    border-color: transparent;\n",
              "    border-bottom-color: var(--fill-color);\n",
              "    animation:\n",
              "      spin 1s steps(1) infinite;\n",
              "  }\n",
              "\n",
              "  @keyframes spin {\n",
              "    0% {\n",
              "      border-color: transparent;\n",
              "      border-bottom-color: var(--fill-color);\n",
              "      border-left-color: var(--fill-color);\n",
              "    }\n",
              "    20% {\n",
              "      border-color: transparent;\n",
              "      border-left-color: var(--fill-color);\n",
              "      border-top-color: var(--fill-color);\n",
              "    }\n",
              "    30% {\n",
              "      border-color: transparent;\n",
              "      border-left-color: var(--fill-color);\n",
              "      border-top-color: var(--fill-color);\n",
              "      border-right-color: var(--fill-color);\n",
              "    }\n",
              "    40% {\n",
              "      border-color: transparent;\n",
              "      border-right-color: var(--fill-color);\n",
              "      border-top-color: var(--fill-color);\n",
              "    }\n",
              "    60% {\n",
              "      border-color: transparent;\n",
              "      border-right-color: var(--fill-color);\n",
              "    }\n",
              "    80% {\n",
              "      border-color: transparent;\n",
              "      border-right-color: var(--fill-color);\n",
              "      border-bottom-color: var(--fill-color);\n",
              "    }\n",
              "    90% {\n",
              "      border-color: transparent;\n",
              "      border-bottom-color: var(--fill-color);\n",
              "    }\n",
              "  }\n",
              "</style>\n",
              "\n",
              "  <script>\n",
              "    async function quickchart(key) {\n",
              "      const quickchartButtonEl =\n",
              "        document.querySelector('#' + key + ' button');\n",
              "      quickchartButtonEl.disabled = true;  // To prevent multiple clicks.\n",
              "      quickchartButtonEl.classList.add('colab-df-spinner');\n",
              "      try {\n",
              "        const charts = await google.colab.kernel.invokeFunction(\n",
              "            'suggestCharts', [key], {});\n",
              "      } catch (error) {\n",
              "        console.error('Error during call to suggestCharts:', error);\n",
              "      }\n",
              "      quickchartButtonEl.classList.remove('colab-df-spinner');\n",
              "      quickchartButtonEl.classList.add('colab-df-quickchart-complete');\n",
              "    }\n",
              "    (() => {\n",
              "      let quickchartButtonEl =\n",
              "        document.querySelector('#df-a7f316f0-3011-4797-98cf-024c37bc2e42 button');\n",
              "      quickchartButtonEl.style.display =\n",
              "        google.colab.kernel.accessAllowed ? 'block' : 'none';\n",
              "    })();\n",
              "  </script>\n",
              "</div>\n",
              "\n",
              "    </div>\n",
              "  </div>\n"
            ],
            "application/vnd.google.colaboratory.intrinsic+json": {
              "type": "dataframe",
              "repr_error": "0"
            }
          },
          "metadata": {},
          "execution_count": 29
        }
      ]
    },
    {
      "cell_type": "markdown",
      "source": [
        "# Modelling\n",
        "This is a simple linear regression example using a subset of features. You may need to adjust the features, explore other regression algorithms, or perform additional preprocessing based on the characteristics of your data and the specific problem you are trying to solve"
      ],
      "metadata": {
        "id": "uPlXZGSVVO4n"
      }
    },
    {
      "cell_type": "code",
      "source": [
        "selected_town = 'Manchester'"
      ],
      "metadata": {
        "id": "vpoDxkh0zUMK"
      },
      "execution_count": null,
      "outputs": []
    },
    {
      "cell_type": "code",
      "source": [
        "# Filter the dataset for the selected town\n",
        "town_data = data[data['Town'] == selected_town]"
      ],
      "metadata": {
        "id": "WE8oWzxAzT_s"
      },
      "execution_count": null,
      "outputs": []
    },
    {
      "cell_type": "code",
      "source": [
        "# Drop unnecessary columns\n",
        "columns_to_drop = ['Serial Number', 'Date Recorded', 'Address', 'Town']\n",
        "town_data.drop(columns=columns_to_drop, inplace=True)"
      ],
      "metadata": {
        "colab": {
          "base_uri": "https://localhost:8080/"
        },
        "id": "MnKAwQwN0DHi",
        "outputId": "f6b0f5dc-b654-4bdb-d2ee-3f9c31edf583"
      },
      "execution_count": null,
      "outputs": [
        {
          "output_type": "stream",
          "name": "stderr",
          "text": [
            "<ipython-input-32-16f78af5c3e4>:3: SettingWithCopyWarning: \n",
            "A value is trying to be set on a copy of a slice from a DataFrame\n",
            "\n",
            "See the caveats in the documentation: https://pandas.pydata.org/pandas-docs/stable/user_guide/indexing.html#returning-a-view-versus-a-copy\n",
            "  town_data.drop(columns=columns_to_drop, inplace=True)\n"
          ]
        }
      ]
    },
    {
      "cell_type": "code",
      "source": [
        "# Select features and target variable\n",
        "features = ['Assessed Value', 'Sales Ratio', 'Years until sold']\n",
        "target = 'Sale Amount'"
      ],
      "metadata": {
        "id": "RKWXj3KZ0C7G"
      },
      "execution_count": null,
      "outputs": []
    },
    {
      "cell_type": "code",
      "source": [
        "import numpy as np\n",
        "town_data['Assessed Value'] = np.log(town_data['Assessed Value']+1)\n",
        "town_data[target] = np.log(town_data[target]+1)\n"
      ],
      "metadata": {
        "colab": {
          "base_uri": "https://localhost:8080/"
        },
        "id": "M8jKCwZ36gaM",
        "outputId": "7232ffaa-c9bf-4429-ee38-7732279aba58"
      },
      "execution_count": null,
      "outputs": [
        {
          "output_type": "stream",
          "name": "stderr",
          "text": [
            "<ipython-input-34-96ee3f3a5f04>:2: SettingWithCopyWarning: \n",
            "A value is trying to be set on a copy of a slice from a DataFrame.\n",
            "Try using .loc[row_indexer,col_indexer] = value instead\n",
            "\n",
            "See the caveats in the documentation: https://pandas.pydata.org/pandas-docs/stable/user_guide/indexing.html#returning-a-view-versus-a-copy\n",
            "  town_data['Assessed Value'] = np.log(town_data['Assessed Value']+1)\n",
            "<ipython-input-34-96ee3f3a5f04>:3: SettingWithCopyWarning: \n",
            "A value is trying to be set on a copy of a slice from a DataFrame.\n",
            "Try using .loc[row_indexer,col_indexer] = value instead\n",
            "\n",
            "See the caveats in the documentation: https://pandas.pydata.org/pandas-docs/stable/user_guide/indexing.html#returning-a-view-versus-a-copy\n",
            "  town_data[target] = np.log(town_data[target]+1)\n"
          ]
        }
      ]
    },
    {
      "cell_type": "code",
      "source": [
        "# Split the data into features (X) and target variable (y)\n",
        "X = town_data[features]\n",
        "y = town_data[target]"
      ],
      "metadata": {
        "id": "8ABMCQ0OU6gt"
      },
      "execution_count": null,
      "outputs": []
    },
    {
      "cell_type": "code",
      "source": [
        "# Split the data into training and testing sets\n",
        "X_train, X_test, y_train, y_test = train_test_split(X, y, test_size=0.2, random_state=42)"
      ],
      "metadata": {
        "id": "OM_0rJ4XU6cu"
      },
      "execution_count": null,
      "outputs": []
    },
    {
      "cell_type": "code",
      "source": [
        "from sklearn.linear_model import Lasso, Ridge"
      ],
      "metadata": {
        "id": "hBar0jx5Xj5i"
      },
      "execution_count": null,
      "outputs": []
    },
    {
      "cell_type": "code",
      "source": [],
      "metadata": {
        "id": "trzdoyxh4Jc1"
      },
      "execution_count": null,
      "outputs": []
    },
    {
      "cell_type": "code",
      "source": [],
      "metadata": {
        "id": "BkgBjAVE43Zo"
      },
      "execution_count": null,
      "outputs": []
    },
    {
      "cell_type": "code",
      "source": [
        "# Initialize and train Lasso (L1) regression model\n",
        "lasso_model = Lasso(max_iter=100000)  # Set the regularization strength (alpha) parameter\n",
        "lasso_model.fit(X_train, y_train)\n",
        "\n",
        "# Initialize and train Ridge (L2) regression model\n",
        "ridge_model = Ridge()  # Set the regularization strength (alpha) parameter\n",
        "ridge_model.fit(X_train, y_train)\n",
        "\n",
        "# Make predictions on the testing set for both models\n",
        "lasso_pred = lasso_model.predict(X_test)\n",
        "ridge_pred = ridge_model.predict(X_test)\n",
        "\n",
        "# Calculate Mean Squared Error (MSE) for Lasso model\n",
        "lasso_mse = mean_squared_error(y_test, lasso_pred)\n",
        "\n",
        "# Calculate Mean Squared Error (MSE) for Ridge model\n",
        "ridge_mse = mean_squared_error(y_test, ridge_pred)\n",
        "\n",
        "print(\"Mean Squared Error (MSE) for Lasso:\", lasso_mse)\n",
        "print(\"Mean Squared Error (MSE) for Ridge:\", ridge_mse)\n",
        "lasso_r2=r2_score(y_test,lasso_pred)\n",
        "print(lasso_r2)\n",
        "ridge_r2=r2_score(y_test,ridge_pred)\n",
        "print(ridge_r2)"
      ],
      "metadata": {
        "colab": {
          "base_uri": "https://localhost:8080/"
        },
        "id": "iKdQziDG1TMz",
        "outputId": "8db3052b-37ac-4a23-8f66-73638eeae9f9"
      },
      "execution_count": null,
      "outputs": [
        {
          "output_type": "stream",
          "name": "stdout",
          "text": [
            "Mean Squared Error (MSE) for Lasso: 0.5180773388608596\n",
            "Mean Squared Error (MSE) for Ridge: 0.41274763193148617\n",
            "6.995250889707538e-05\n",
            "0.20336457852688394\n"
          ]
        }
      ]
    },
    {
      "cell_type": "code",
      "source": [
        "# Plotting the MSE for Lasso and Ridge models\n",
        "plt.figure(figsize=(8, 6))\n",
        "plt.bar(['Lasso', 'Ridge'], [lasso_mse, ridge_mse], color=['blue', 'green'])\n",
        "plt.xlabel('Regression Model')\n",
        "plt.ylabel('Mean Squared Error (MSE)')\n",
        "plt.title('Mean Squared Error (MSE) for Lasso and Ridge Models')\n",
        "plt.show()\n"
      ],
      "metadata": {
        "colab": {
          "base_uri": "https://localhost:8080/",
          "height": 564
        },
        "id": "RN7-CW-P1TJV",
        "outputId": "979beae2-ee21-40e1-c218-ea05eda362cd"
      },
      "execution_count": null,
      "outputs": [
        {
          "output_type": "display_data",
          "data": {
            "text/plain": [
              "<Figure size 800x600 with 1 Axes>"
            ],
            "image/png": "[encoded data removed]"
          },
          "metadata": {}
        }
      ]
    },
    {
      "cell_type": "code",
      "source": [
        "# Plotting the R-squared (R2) score for Lasso and Ridge models\n",
        "plt.figure(figsize=(8, 6))\n",
        "plt.bar(['Lasso', 'Ridge'], [lasso_r2, ridge_r2], color=['blue', 'green'])\n",
        "plt.xlabel('Regression Model')\n",
        "plt.ylabel('R-squared (R2) Score')\n",
        "plt.title('R-squared (R2) Score for Lasso and Ridge Models')\n",
        "plt.show()"
      ],
      "metadata": {
        "colab": {
          "base_uri": "https://localhost:8080/",
          "height": 564
        },
        "id": "SMaC2nxV1THX",
        "outputId": "6b51297f-3cba-40d2-a83d-3e2e2eed78ca"
      },
      "execution_count": null,
      "outputs": [
        {
          "output_type": "display_data",
          "data": {
            "text/plain": [
              "<Figure size 800x600 with 1 Axes>"
            ],
            "image/png": "[encoded data removed]"
          },
          "metadata": {}
        }
      ]
    },
    {
      "cell_type": "code",
      "source": [],
      "metadata": {
        "id": "msm38znS1S8m"
      },
      "execution_count": null,
      "outputs": []
    },
    {
      "cell_type": "code",
      "source": [
        "# Standardize the features using StandardScaler\n",
        "scaler = StandardScaler()\n",
        "X_train_scaler = scaler.fit_transform(X_train)\n",
        "X_test_scaler = scaler.transform(X_test)"
      ],
      "metadata": {
        "id": "p5HxsVk5U6aX"
      },
      "execution_count": null,
      "outputs": []
    },
    {
      "cell_type": "code",
      "source": [
        "# Initialize the linear regression model\n",
        "model = LinearRegression()\n",
        "\n",
        "# Fit the model to the training data\n",
        "model.fit(X_train_scaler, y_train)\n",
        "\n",
        "# Make predictions on the test set\n",
        "y_pred = model.predict(X_test_scaler)"
      ],
      "metadata": {
        "id": "xJTJf1XkU6YT"
      },
      "execution_count": null,
      "outputs": []
    },
    {
      "cell_type": "code",
      "source": [
        "# Evaluate the model\n",
        "mse = mean_squared_error(y_test, y_pred)\n",
        "r2 = r2_score(y_test, y_pred)"
      ],
      "metadata": {
        "id": "hwkjuHBlU6Vn"
      },
      "execution_count": null,
      "outputs": []
    },
    {
      "cell_type": "code",
      "source": [
        "print(f'Mean Squared Error: {mse}')\n",
        "print(f'R-squared: {r2}')"
      ],
      "metadata": {
        "colab": {
          "base_uri": "https://localhost:8080/"
        },
        "id": "5gRT5PWSU6Rv",
        "outputId": "2532517a-37f2-4fa1-ec1f-01fc306f44df"
      },
      "execution_count": null,
      "outputs": [
        {
          "output_type": "stream",
          "name": "stdout",
          "text": [
            "Mean Squared Error: 0.4127482239336625\n",
            "R-squared: 0.20336343591608064\n"
          ]
        }
      ]
    },
    {
      "cell_type": "code",
      "source": [
        "\n"
      ],
      "metadata": {
        "id": "VPftIm4faq2U"
      },
      "execution_count": null,
      "outputs": []
    },
    {
      "cell_type": "code",
      "source": [
        "# Iterate over each unique town and create scatter plots\n",
        "# for town in data['Town'].unique():\n",
        "#     town_data = data[data['Town'] == selected_town]\n",
        "#     plt.figure(figsize=(10, 6))\n",
        "#     plt.scatter(town_data[features[0]], town_data[target], label=features[0])\n",
        "#     plt.scatter(town_data[features[1]], town_data[target], label=features[1])\n",
        "#     plt.scatter(town_data[features[2]], town_data[target], label=features[2])\n",
        "#     plt.title(f'Scatter Plot for {town}')\n",
        "#     plt.xlabel('Feature Values')\n",
        "#     plt.ylabel('Sale Amount')\n",
        "#     plt.legend()\n",
        "#     plt.show()\n"
      ],
      "metadata": {
        "id": "B_MtCcm6b5gj"
      },
      "execution_count": null,
      "outputs": []
    },
    {
      "cell_type": "code",
      "source": [
        "import matplotlib.pyplot as plt\n",
        "selected_town = 'Manchester'\n",
        "#Plot the bar plot\n",
        "plt.figure(figsize=(10, 6))\n",
        "plt.bar(town_data['Residential Type'], town_data['Sale Amount'])\n",
        "plt.title(f'Sale Amounts for {selected_town}')\n",
        "plt.xlabel('Residential Type')\n",
        "plt.ylabel('Sale Amount')\n",
        "plt.xticks(rotation=45)  # Rotate x-axis labels for better readability\n",
        "plt.show()"
      ],
      "metadata": {
        "colab": {
          "base_uri": "https://localhost:8080/",
          "height": 625
        },
        "id": "SmihRuH9AChF",
        "outputId": "2a84b790-0a45-4254-be19-18ec48baa65a"
      },
      "execution_count": null,
      "outputs": [
        {
          "output_type": "display_data",
          "data": {
            "text/plain": [
              "<Figure size 1000x600 with 1 Axes>"
            ],
            "image/png": "[encoded data removed]"
          },
          "metadata": {}
        }
      ]
    },
    {
      "cell_type": "code",
      "source": [
        "# Visualize predictions vs. actual values using Seaborn\n",
        "plt.figure(figsize=(10, 6))\n",
        "sns.regplot(x=y_test, y=y_pred, scatter_kws={'alpha':0.3})\n",
        "plt.xlabel('Actual Sale Amount')\n",
        "plt.ylabel('Predicted Sale Amount')\n",
        "plt.title('Actual vs. Predicted Sale Amount')\n",
        "plt.show()"
      ],
      "metadata": {
        "colab": {
          "base_uri": "https://localhost:8080/",
          "height": 564
        },
        "id": "vnwWczAtU6P5",
        "outputId": "00a8878f-db31-4a4b-b652-d91727908b7b"
      },
      "execution_count": null,
      "outputs": [
        {
          "output_type": "display_data",
          "data": {
            "text/plain": [
              "<Figure size 1000x600 with 1 Axes>"
            ],
            "image/png": "[encoded data removed]"
          },
          "metadata": {}
        }
      ]
    },
    {
      "cell_type": "markdown",
      "source": [
        "VISUALIZING DATA\n",
        "\n",
        "which property gets sold immediately or without much delay? (By this we can analyze which type of properties buyers are more interested in )"
      ],
      "metadata": {
        "id": "F7AwIiJPWZ0M"
      }
    },
    {
      "cell_type": "code",
      "source": [
        "plt.figure(figsize=(15,10))\n",
        "sns.barplot(x=\"Property Type\",y=\"Years until sold\",data =data)\n",
        "plt.show()"
      ],
      "metadata": {
        "colab": {
          "base_uri": "https://localhost:8080/",
          "height": 850
        },
        "id": "w05UUtmvSAQq",
        "outputId": "4f5effc4-6ca0-4330-dd8e-f23df30c9f1f"
      },
      "execution_count": null,
      "outputs": [
        {
          "output_type": "display_data",
          "data": {
            "text/plain": [
              "<Figure size 1500x1000 with 1 Axes>"
            ],
            "image/png": "[encoded data removed]"
          },
          "metadata": {}
        }
      ]
    },
    {
      "cell_type": "markdown",
      "source": [
        "# To find sales in each year"
      ],
      "metadata": {
        "id": "zpe_n-JATCFO"
      }
    },
    {
      "cell_type": "code",
      "source": [
        "plt.figure(figsize=(15, 10))\n",
        "sns.barplot(x=\"List Year\", y=\"Sale Amount\", data=data)   #Note use of barplot which allows us to compare different sets of data among different groups easily.\n",
        "plt.xticks(rotation='vertical')\n",
        "plt.ylabel('Sales',fontsize=25)                         #Note labelling of y-axis\n",
        "plt.xlabel('Year',fontsize=25)                          #Note labelling of x_axis\n",
        "plt.show()"
      ],
      "metadata": {
        "colab": {
          "base_uri": "https://localhost:8080/",
          "height": 912
        },
        "id": "_GqdkPIpSmjk",
        "outputId": "909eae5f-dc3c-44d0-c9a2-606a7327a9c1"
      },
      "execution_count": null,
      "outputs": [
        {
          "output_type": "display_data",
          "data": {
            "text/plain": [
              "<Figure size 1500x1000 with 1 Axes>"
            ],
            "image/png": "[encoded data removed]"
          },
          "metadata": {}
        }
      ]
    },
    {
      "cell_type": "markdown",
      "source": [
        "# number of properties sold in each year\n",
        "summary In this comprehensive analysis of the real estate sales dataset, we delved into the intricacies of property transactions to extract meaningful insights. Leveraging data analytical techniques, the study focuses on uncovering key trends, identifying regional variations, and understanding the factors influencing property values"
      ],
      "metadata": {
        "id": "Q-36TjbLThWm"
      }
    },
    {
      "cell_type": "code",
      "source": [
        "plt.figure(figsize=(15, 10))\n",
        "sns.countplot(x=\"List Year\",data=data, order = data.groupby(by=['List Year'])['Property Type'].count().sort_values(ascending=False).index)\n",
        "plt.xticks(rotation='vertical')\n",
        "plt.title('Properties sold in each year',fontsize=40)    #Note adding a title to the data\n",
        "plt.ylabel('Count',fontsize = 25)                     #Note labelling the y-axis by count.\n",
        "plt.xlabel('Year',fontsize = 25)                      #Note labelling the x-axis by year.\n",
        "plt.show()"
      ],
      "metadata": {
        "colab": {
          "base_uri": "https://localhost:8080/",
          "height": 944
        },
        "id": "ZbMz43bITKf2",
        "outputId": "be4b875e-e939-4455-9555-2759ac7fe522"
      },
      "execution_count": null,
      "outputs": [
        {
          "output_type": "display_data",
          "data": {
            "text/plain": [
              "<Figure size 1500x1000 with 1 Axes>"
            ],
            "image/png": "[encoded data removed]"
          },
          "metadata": {}
        }
      ]
    },
    {
      "cell_type": "code",
      "source": [],
      "metadata": {
        "id": "RNFmonkfR8vx"
      },
      "execution_count": null,
      "outputs": []
    },
    {
      "cell_type": "code",
      "source": [],
      "metadata": {
        "id": "QZbchuy4TsNT"
      },
      "execution_count": null,
      "outputs": []
    },
    {
      "cell_type": "code",
      "source": [],
      "metadata": {
        "id": "cyqTPXcbS2iw"
      },
      "execution_count": null,
      "outputs": []
    },
    {
      "cell_type": "code",
      "source": [],
      "metadata": {
        "id": "fe-dbP20UlcL"
      },
      "execution_count": null,
      "outputs": []
    },
    {
      "cell_type": "code",
      "source": [],
      "metadata": {
        "id": "wvWhXxYOXfEa"
      },
      "execution_count": null,
      "outputs": []
    }
  ]
}